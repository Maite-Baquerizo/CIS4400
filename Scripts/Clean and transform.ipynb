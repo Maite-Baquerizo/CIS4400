{
 "cells": [
  {
   "cell_type": "code",
   "execution_count": 1,
   "id": "8b8d4d73",
   "metadata": {
    "scrolled": true
   },
   "outputs": [
    {
     "name": "stdout",
     "output_type": "stream",
     "text": [
      "  PERMIT_TYPE  APP_ID         WDID      STATUS NOI_PROCESSED_DATE  \\\n",
      "0  Industrial  153338  5A327021N05  Terminated         2006-05-14   \n",
      "1  Industrial  178202  1 08I001442  Terminated         1992-03-27   \n",
      "2  Industrial  178203  1 08I004046      Active         1992-04-03   \n",
      "3  Industrial  178204  1 08I015378      Active         1999-09-20   \n",
      "4  Industrial  178205  1 08I017295      Active         2002-06-11   \n",
      "\n",
      "  REGION_BOARD     COUNTY                               OPERATOR_NAME  \\\n",
      "0           5R     Plumas                      Union Pacific Railroad   \n",
      "1            1  Del Norte  Del Norte Solid Waste Management Authority   \n",
      "2            1  Del Norte                   Hambro Forest Product Inc   \n",
      "3            1  Del Norte                                 Bruce Gates   \n",
      "4            1  Del Norte              Green Diamond Resource Company   \n",
      "\n",
      "                    FACILITY_NAME           FACILITY_ADDRESS  ...  \\\n",
      "0  Union Pacific Portola Railyard                     1 Park  ...   \n",
      "1          Crescent City Landfill  End Of Hights Access Road  ...   \n",
      "2          Hambro Forest Products          445 Elk Valley Rd  ...   \n",
      "3               A 1 Auto Wreckers           1100 Mcnamara Rd  ...   \n",
      "4                Klamath Log Yard        200 Klamath Mill Rd  ...   \n",
      "\n",
      "  FACILITY_ZIP FACILITY_LATITUDE FACILITY_LONGITUDE  FACILITY_COUNTY  \\\n",
      "0      96122.0         39.806258        -120.471364           Plumas   \n",
      "1      95531.0         41.795542        -124.217723        Del Norte   \n",
      "2      95531.0         41.753659        -124.177645        Del Norte   \n",
      "3      95531.0         41.767146        -124.187834        Del Norte   \n",
      "4      95548.0         41.531948        -124.040820        Del Norte   \n",
      "\n",
      "   FACILITY_CONTACT_FIRST_NAME FACILITY_CONTACT_LAST_NAME FACILITY_PHONE  \\\n",
      "0                         Sean                     Rhodes   530-216-8420   \n",
      "1                         Tedd                       Ward   707-954-3351   \n",
      "2                         Joel                     Wallen   707-464-6131   \n",
      "3                        Bruce                      Gates   707-218-1522   \n",
      "4                      Theresa                     Taylor   707-668-3782   \n",
      "\n",
      "  FACILITY_TOTAL_SIZE FACILITY_TOTAL_SIZE_UNIT  \\\n",
      "0               122.0                  Unknown   \n",
      "1               160.0                    Acres   \n",
      "2                47.4                    Acres   \n",
      "3                 4.0                    Acres   \n",
      "4                10.0                    Acres   \n",
      "\n",
      "                           PRIMARY_SIC  \n",
      "0                              Unknown  \n",
      "1                  4953-Refuse Systems  \n",
      "2  4212-Local Trucking Without Storage  \n",
      "3       5015-Motor Vehicle Parts, Used  \n",
      "4                         2411-Logging  \n",
      "\n",
      "[5 rows x 22 columns]\n"
     ]
    }
   ],
   "source": [
    "import pandas as pd\n",
    "\n",
    "pd_dat = \"cleaned_industrial_data.csv\"\n",
    "\n",
    "data = pd.read_csv(pd_dat)\n",
    "\n",
    "print(data.head())\n"
   ]
  },
  {
   "cell_type": "code",
   "execution_count": 2,
   "id": "df7e924b",
   "metadata": {},
   "outputs": [
    {
     "name": "stdout",
     "output_type": "stream",
     "text": [
      "<class 'pandas.core.frame.DataFrame'>\n",
      "RangeIndex: 53330 entries, 0 to 53329\n",
      "Data columns (total 22 columns):\n",
      " #   Column                       Non-Null Count  Dtype  \n",
      "---  ------                       --------------  -----  \n",
      " 0   PERMIT_TYPE                  53330 non-null  object \n",
      " 1   APP_ID                       53330 non-null  int64  \n",
      " 2   WDID                         53330 non-null  object \n",
      " 3   STATUS                       53330 non-null  object \n",
      " 4   NOI_PROCESSED_DATE           53330 non-null  object \n",
      " 5   REGION_BOARD                 53330 non-null  object \n",
      " 6   COUNTY                       53330 non-null  object \n",
      " 7   OPERATOR_NAME                53330 non-null  object \n",
      " 8   FACILITY_NAME                53330 non-null  object \n",
      " 9   FACILITY_ADDRESS             53330 non-null  object \n",
      " 10  FACILITY_CITY                53330 non-null  object \n",
      " 11  FACILITY_STATE               53330 non-null  object \n",
      " 12  FACILITY_ZIP                 53330 non-null  object \n",
      " 13  FACILITY_LATITUDE            53330 non-null  float64\n",
      " 14  FACILITY_LONGITUDE           53330 non-null  float64\n",
      " 15  FACILITY_COUNTY              53330 non-null  object \n",
      " 16  FACILITY_CONTACT_FIRST_NAME  53330 non-null  object \n",
      " 17  FACILITY_CONTACT_LAST_NAME   53330 non-null  object \n",
      " 18  FACILITY_PHONE               53330 non-null  object \n",
      " 19  FACILITY_TOTAL_SIZE          53330 non-null  float64\n",
      " 20  FACILITY_TOTAL_SIZE_UNIT     53330 non-null  object \n",
      " 21  PRIMARY_SIC                  53330 non-null  object \n",
      "dtypes: float64(3), int64(1), object(18)\n",
      "memory usage: 9.0+ MB\n",
      "None\n"
     ]
    }
   ],
   "source": [
    "\n",
    "data['FACILITY_ZIP'] = data['FACILITY_ZIP'].astype(str).str.zfill(5)\n",
    "\n",
    "\n",
    "data = data.dropna(subset=['PERMIT_TYPE', 'FACILITY_NAME', 'STATUS'])\n",
    "\n",
    "\n",
    "data['FACILITY_LATITUDE'] = data['FACILITY_LATITUDE'].astype(float)\n",
    "data['FACILITY_LONGITUDE'] = data['FACILITY_LONGITUDE'].astype(float)\n",
    "\n",
    "\n",
    "print(data.info())\n"
   ]
  },
  {
   "cell_type": "code",
   "execution_count": 3,
   "id": "293e4c6e",
   "metadata": {},
   "outputs": [
    {
     "name": "stdout",
     "output_type": "stream",
     "text": [
      "Data successfully loaded into the database.\n"
     ]
    }
   ],
   "source": [
    "from sqlalchemy import create_engine\n",
    "\n",
    "engine = create_engine('sqlite:///environmental_compliance.db')\n",
    "\n",
    "data.to_sql('FACILITY', con=engine, if_exists='replace', index=False)\n",
    "\n",
    "print(\"Data successfully loaded into the database.\")\n"
   ]
  },
  {
   "cell_type": "code",
   "execution_count": 4,
   "id": "71bebcf3",
   "metadata": {},
   "outputs": [
    {
     "ename": "SMTPAuthenticationError",
     "evalue": "(535, b'5.7.8 Username and Password not accepted. For more information, go to\\n5.7.8  https://support.google.com/mail/?p=BadCredentials d75a77b69052e-46a3e676f26sm25893751cf.19 - gsmtp')",
     "output_type": "error",
     "traceback": [
      "\u001b[1;31m---------------------------------------------------------------------------\u001b[0m",
      "\u001b[1;31mSMTPAuthenticationError\u001b[0m                   Traceback (most recent call last)",
      "Input \u001b[1;32mIn [4]\u001b[0m, in \u001b[0;36m<cell line: 27>\u001b[1;34m()\u001b[0m\n\u001b[0;32m     24\u001b[0m         server\u001b[38;5;241m.\u001b[39mlogin(\u001b[38;5;124m\"\u001b[39m\u001b[38;5;124myour_email@gmail.com\u001b[39m\u001b[38;5;124m\"\u001b[39m, \u001b[38;5;124m\"\u001b[39m\u001b[38;5;124myour_password\u001b[39m\u001b[38;5;124m\"\u001b[39m)\n\u001b[0;32m     25\u001b[0m         server\u001b[38;5;241m.\u001b[39msendmail(msg[\u001b[38;5;124m'\u001b[39m\u001b[38;5;124mFrom\u001b[39m\u001b[38;5;124m'\u001b[39m], [msg[\u001b[38;5;124m'\u001b[39m\u001b[38;5;124mTo\u001b[39m\u001b[38;5;124m'\u001b[39m]], msg\u001b[38;5;241m.\u001b[39mas_string())\n\u001b[1;32m---> 27\u001b[0m \u001b[43msend_email\u001b[49m\u001b[43m(\u001b[49m\u001b[43minactive_facilities\u001b[49m\u001b[43m)\u001b[49m\n",
      "Input \u001b[1;32mIn [4]\u001b[0m, in \u001b[0;36msend_email\u001b[1;34m(facilities)\u001b[0m\n\u001b[0;32m     22\u001b[0m \u001b[38;5;28;01mwith\u001b[39;00m smtplib\u001b[38;5;241m.\u001b[39mSMTP(\u001b[38;5;124m'\u001b[39m\u001b[38;5;124msmtp.gmail.com\u001b[39m\u001b[38;5;124m'\u001b[39m, \u001b[38;5;241m587\u001b[39m) \u001b[38;5;28;01mas\u001b[39;00m server:\n\u001b[0;32m     23\u001b[0m     server\u001b[38;5;241m.\u001b[39mstarttls()\n\u001b[1;32m---> 24\u001b[0m     \u001b[43mserver\u001b[49m\u001b[38;5;241;43m.\u001b[39;49m\u001b[43mlogin\u001b[49m\u001b[43m(\u001b[49m\u001b[38;5;124;43m\"\u001b[39;49m\u001b[38;5;124;43myour_email@gmail.com\u001b[39;49m\u001b[38;5;124;43m\"\u001b[39;49m\u001b[43m,\u001b[49m\u001b[43m \u001b[49m\u001b[38;5;124;43m\"\u001b[39;49m\u001b[38;5;124;43myour_password\u001b[39;49m\u001b[38;5;124;43m\"\u001b[39;49m\u001b[43m)\u001b[49m\n\u001b[0;32m     25\u001b[0m     server\u001b[38;5;241m.\u001b[39msendmail(msg[\u001b[38;5;124m'\u001b[39m\u001b[38;5;124mFrom\u001b[39m\u001b[38;5;124m'\u001b[39m], [msg[\u001b[38;5;124m'\u001b[39m\u001b[38;5;124mTo\u001b[39m\u001b[38;5;124m'\u001b[39m]], msg\u001b[38;5;241m.\u001b[39mas_string())\n",
      "File \u001b[1;32m~\\anaconda3\\lib\\smtplib.py:750\u001b[0m, in \u001b[0;36mSMTP.login\u001b[1;34m(self, user, password, initial_response_ok)\u001b[0m\n\u001b[0;32m    747\u001b[0m         last_exception \u001b[38;5;241m=\u001b[39m e\n\u001b[0;32m    749\u001b[0m \u001b[38;5;66;03m# We could not login successfully.  Return result of last attempt.\u001b[39;00m\n\u001b[1;32m--> 750\u001b[0m \u001b[38;5;28;01mraise\u001b[39;00m last_exception\n",
      "File \u001b[1;32m~\\anaconda3\\lib\\smtplib.py:739\u001b[0m, in \u001b[0;36mSMTP.login\u001b[1;34m(self, user, password, initial_response_ok)\u001b[0m\n\u001b[0;32m    737\u001b[0m method_name \u001b[38;5;241m=\u001b[39m \u001b[38;5;124m'\u001b[39m\u001b[38;5;124mauth_\u001b[39m\u001b[38;5;124m'\u001b[39m \u001b[38;5;241m+\u001b[39m authmethod\u001b[38;5;241m.\u001b[39mlower()\u001b[38;5;241m.\u001b[39mreplace(\u001b[38;5;124m'\u001b[39m\u001b[38;5;124m-\u001b[39m\u001b[38;5;124m'\u001b[39m, \u001b[38;5;124m'\u001b[39m\u001b[38;5;124m_\u001b[39m\u001b[38;5;124m'\u001b[39m)\n\u001b[0;32m    738\u001b[0m \u001b[38;5;28;01mtry\u001b[39;00m:\n\u001b[1;32m--> 739\u001b[0m     (code, resp) \u001b[38;5;241m=\u001b[39m \u001b[38;5;28;43mself\u001b[39;49m\u001b[38;5;241;43m.\u001b[39;49m\u001b[43mauth\u001b[49m\u001b[43m(\u001b[49m\n\u001b[0;32m    740\u001b[0m \u001b[43m        \u001b[49m\u001b[43mauthmethod\u001b[49m\u001b[43m,\u001b[49m\u001b[43m \u001b[49m\u001b[38;5;28;43mgetattr\u001b[39;49m\u001b[43m(\u001b[49m\u001b[38;5;28;43mself\u001b[39;49m\u001b[43m,\u001b[49m\u001b[43m \u001b[49m\u001b[43mmethod_name\u001b[49m\u001b[43m)\u001b[49m\u001b[43m,\u001b[49m\n\u001b[0;32m    741\u001b[0m \u001b[43m        \u001b[49m\u001b[43minitial_response_ok\u001b[49m\u001b[38;5;241;43m=\u001b[39;49m\u001b[43minitial_response_ok\u001b[49m\u001b[43m)\u001b[49m\n\u001b[0;32m    742\u001b[0m     \u001b[38;5;66;03m# 235 == 'Authentication successful'\u001b[39;00m\n\u001b[0;32m    743\u001b[0m     \u001b[38;5;66;03m# 503 == 'Error: already authenticated'\u001b[39;00m\n\u001b[0;32m    744\u001b[0m     \u001b[38;5;28;01mif\u001b[39;00m code \u001b[38;5;129;01min\u001b[39;00m (\u001b[38;5;241m235\u001b[39m, \u001b[38;5;241m503\u001b[39m):\n",
      "File \u001b[1;32m~\\anaconda3\\lib\\smtplib.py:662\u001b[0m, in \u001b[0;36mSMTP.auth\u001b[1;34m(self, mechanism, authobject, initial_response_ok)\u001b[0m\n\u001b[0;32m    660\u001b[0m \u001b[38;5;28;01mif\u001b[39;00m code \u001b[38;5;129;01min\u001b[39;00m (\u001b[38;5;241m235\u001b[39m, \u001b[38;5;241m503\u001b[39m):\n\u001b[0;32m    661\u001b[0m     \u001b[38;5;28;01mreturn\u001b[39;00m (code, resp)\n\u001b[1;32m--> 662\u001b[0m \u001b[38;5;28;01mraise\u001b[39;00m SMTPAuthenticationError(code, resp)\n",
      "\u001b[1;31mSMTPAuthenticationError\u001b[0m: (535, b'5.7.8 Username and Password not accepted. For more information, go to\\n5.7.8  https://support.google.com/mail/?p=BadCredentials d75a77b69052e-46a3e676f26sm25893751cf.19 - gsmtp')"
     ]
    }
   ],
   "source": [
    "import smtplib\n",
    "from email.mime.text import MIMEText\n",
    "import pandas as pd\n",
    "\n",
    "data = pd.read_sql(\"SELECT * FROM FACILITY\", con=engine)\n",
    "\n",
    "\n",
    "inactive_facilities = data[data['STATUS'] == 'Inactive']\n",
    "\n",
    "\n",
    "def send_email(facilities):\n",
    "    recipient = \"regulatory_team@example.com\"\n",
    "    subject = \"Inactive Permits Alert\"\n",
    "    body = f\"Facilities with inactive permits:\\n\\n{facilities[['FACILITY_NAME', 'COUNTY']].to_string(index=False)}\"\n",
    "    \n",
    "    msg = MIMEText(body)\n",
    "    msg['From'] = \"alerts@example.com\"\n",
    "    msg['To'] = recipient\n",
    "    msg['Subject'] = subject\n",
    "\n",
    "\n",
    "    with smtplib.SMTP('smtp.gmail.com', 587) as server:\n",
    "        server.starttls()\n",
    "        server.login(\"your_email@gmail.com\", \"your_password\")\n",
    "        server.sendmail(msg['From'], [msg['To']], msg.as_string())\n",
    "\n",
    "send_email(inactive_facilities)\n"
   ]
  },
  {
   "cell_type": "code",
   "execution_count": 10,
   "id": "d249993b",
   "metadata": {},
   "outputs": [
    {
     "name": "stdout",
     "output_type": "stream",
     "text": [
      "Requirement already satisfied: folium in c:\\users\\mabaq\\anaconda3\\lib\\site-packages (0.19.2)\n",
      "Requirement already satisfied: requests in c:\\users\\mabaq\\anaconda3\\lib\\site-packages (from folium) (2.27.1)\n",
      "Requirement already satisfied: numpy in c:\\users\\mabaq\\anaconda3\\lib\\site-packages (from folium) (1.21.5)\n",
      "Requirement already satisfied: branca>=0.6.0 in c:\\users\\mabaq\\anaconda3\\lib\\site-packages (from folium) (0.6.0)\n",
      "Requirement already satisfied: xyzservices in c:\\users\\mabaq\\anaconda3\\lib\\site-packages (from folium) (2024.9.0)\n",
      "Requirement already satisfied: jinja2>=2.9 in c:\\users\\mabaq\\anaconda3\\lib\\site-packages (from folium) (2.11.3)\n",
      "Requirement already satisfied: MarkupSafe>=0.23 in c:\\users\\mabaq\\anaconda3\\lib\\site-packages (from jinja2>=2.9->folium) (2.0.1)\n",
      "Requirement already satisfied: urllib3<1.27,>=1.21.1 in c:\\users\\mabaq\\anaconda3\\lib\\site-packages (from requests->folium) (1.26.9)\n",
      "Requirement already satisfied: idna<4,>=2.5 in c:\\users\\mabaq\\anaconda3\\lib\\site-packages (from requests->folium) (3.3)\n",
      "Requirement already satisfied: certifi>=2017.4.17 in c:\\users\\mabaq\\anaconda3\\lib\\site-packages (from requests->folium) (2021.10.8)\n",
      "Requirement already satisfied: charset-normalizer~=2.0.0 in c:\\users\\mabaq\\anaconda3\\lib\\site-packages (from requests->folium) (2.0.4)\n"
     ]
    }
   ],
   "source": [
    "!pip install folium"
   ]
  },
  {
   "cell_type": "code",
   "execution_count": 13,
   "id": "da26e696",
   "metadata": {},
   "outputs": [
    {
     "name": "stdout",
     "output_type": "stream",
     "text": [
      "<bound method Element.save of <folium.folium.Map object at 0x000002B2B6E7A7C0>>\n"
     ]
    }
   ],
   "source": [
    "import folium\n",
    "\n",
    "# Filter data for active facilities\n",
    "active_facilities = data[data['STATUS'] == 'Active']\n",
    "\n",
    "# Create a base map\n",
    "map = folium.Map(location=[36.7783, -119.4179], zoom_start=6)  # California coordinates\n",
    "\n",
    "# Add markers for facilities\n",
    "for _, row in active_facilities.iterrows():\n",
    "    folium.Marker(\n",
    "        location=[row['FACILITY_LATITUDE'], row['FACILITY_LONGITUDE']],\n",
    "        popup=f\"{row['FACILITY_NAME']} ({row['COUNTY']})\",\n",
    "        icon=folium.Icon(color='green')\n",
    "    ).add_to(map)\n",
    "\n",
    "# Save the map to an HTML file\n",
    "map.save(\"active_facilities_map.html\")\n",
    "\n",
    "print(map.save)\n"
   ]
  },
  {
   "cell_type": "code",
   "execution_count": 12,
   "id": "71b7afd1",
   "metadata": {},
   "outputs": [
    {
     "ename": "KeyError",
     "evalue": "'DISCHARGE_DATE'",
     "output_type": "error",
     "traceback": [
      "\u001b[1;31m---------------------------------------------------------------------------\u001b[0m",
      "\u001b[1;31mKeyError\u001b[0m                                  Traceback (most recent call last)",
      "File \u001b[1;32m~\\anaconda3\\lib\\site-packages\\pandas\\core\\indexes\\base.py:3621\u001b[0m, in \u001b[0;36mIndex.get_loc\u001b[1;34m(self, key, method, tolerance)\u001b[0m\n\u001b[0;32m   3620\u001b[0m \u001b[38;5;28;01mtry\u001b[39;00m:\n\u001b[1;32m-> 3621\u001b[0m     \u001b[38;5;28;01mreturn\u001b[39;00m \u001b[38;5;28;43mself\u001b[39;49m\u001b[38;5;241;43m.\u001b[39;49m\u001b[43m_engine\u001b[49m\u001b[38;5;241;43m.\u001b[39;49m\u001b[43mget_loc\u001b[49m\u001b[43m(\u001b[49m\u001b[43mcasted_key\u001b[49m\u001b[43m)\u001b[49m\n\u001b[0;32m   3622\u001b[0m \u001b[38;5;28;01mexcept\u001b[39;00m \u001b[38;5;167;01mKeyError\u001b[39;00m \u001b[38;5;28;01mas\u001b[39;00m err:\n",
      "File \u001b[1;32m~\\anaconda3\\lib\\site-packages\\pandas\\_libs\\index.pyx:136\u001b[0m, in \u001b[0;36mpandas._libs.index.IndexEngine.get_loc\u001b[1;34m()\u001b[0m\n",
      "File \u001b[1;32m~\\anaconda3\\lib\\site-packages\\pandas\\_libs\\index.pyx:163\u001b[0m, in \u001b[0;36mpandas._libs.index.IndexEngine.get_loc\u001b[1;34m()\u001b[0m\n",
      "File \u001b[1;32mpandas\\_libs\\hashtable_class_helper.pxi:5198\u001b[0m, in \u001b[0;36mpandas._libs.hashtable.PyObjectHashTable.get_item\u001b[1;34m()\u001b[0m\n",
      "File \u001b[1;32mpandas\\_libs\\hashtable_class_helper.pxi:5206\u001b[0m, in \u001b[0;36mpandas._libs.hashtable.PyObjectHashTable.get_item\u001b[1;34m()\u001b[0m\n",
      "\u001b[1;31mKeyError\u001b[0m: 'DISCHARGE_DATE'",
      "\nThe above exception was the direct cause of the following exception:\n",
      "\u001b[1;31mKeyError\u001b[0m                                  Traceback (most recent call last)",
      "Input \u001b[1;32mIn [12]\u001b[0m, in \u001b[0;36m<cell line: 9>\u001b[1;34m()\u001b[0m\n\u001b[0;32m      7\u001b[0m \u001b[38;5;66;03m# Plot discharge trends\u001b[39;00m\n\u001b[0;32m      8\u001b[0m plt\u001b[38;5;241m.\u001b[39mfigure(figsize\u001b[38;5;241m=\u001b[39m(\u001b[38;5;241m10\u001b[39m, \u001b[38;5;241m6\u001b[39m))\n\u001b[1;32m----> 9\u001b[0m plt\u001b[38;5;241m.\u001b[39mplot(\u001b[43mfacility_data\u001b[49m\u001b[43m[\u001b[49m\u001b[38;5;124;43m'\u001b[39;49m\u001b[38;5;124;43mDISCHARGE_DATE\u001b[39;49m\u001b[38;5;124;43m'\u001b[39;49m\u001b[43m]\u001b[49m, facility_data[\u001b[38;5;124m'\u001b[39m\u001b[38;5;124mDISCHARGE_VOLUME\u001b[39m\u001b[38;5;124m'\u001b[39m], marker\u001b[38;5;241m=\u001b[39m\u001b[38;5;124m'\u001b[39m\u001b[38;5;124mo\u001b[39m\u001b[38;5;124m'\u001b[39m)\n\u001b[0;32m     11\u001b[0m \u001b[38;5;66;03m# Customize the plot\u001b[39;00m\n\u001b[0;32m     12\u001b[0m plt\u001b[38;5;241m.\u001b[39mtitle(\u001b[38;5;124mf\u001b[39m\u001b[38;5;124m\"\u001b[39m\u001b[38;5;124mDischarge Trends for \u001b[39m\u001b[38;5;132;01m{\u001b[39;00mfacility_name\u001b[38;5;132;01m}\u001b[39;00m\u001b[38;5;124m\"\u001b[39m)\n",
      "File \u001b[1;32m~\\anaconda3\\lib\\site-packages\\pandas\\core\\frame.py:3505\u001b[0m, in \u001b[0;36mDataFrame.__getitem__\u001b[1;34m(self, key)\u001b[0m\n\u001b[0;32m   3503\u001b[0m \u001b[38;5;28;01mif\u001b[39;00m \u001b[38;5;28mself\u001b[39m\u001b[38;5;241m.\u001b[39mcolumns\u001b[38;5;241m.\u001b[39mnlevels \u001b[38;5;241m>\u001b[39m \u001b[38;5;241m1\u001b[39m:\n\u001b[0;32m   3504\u001b[0m     \u001b[38;5;28;01mreturn\u001b[39;00m \u001b[38;5;28mself\u001b[39m\u001b[38;5;241m.\u001b[39m_getitem_multilevel(key)\n\u001b[1;32m-> 3505\u001b[0m indexer \u001b[38;5;241m=\u001b[39m \u001b[38;5;28;43mself\u001b[39;49m\u001b[38;5;241;43m.\u001b[39;49m\u001b[43mcolumns\u001b[49m\u001b[38;5;241;43m.\u001b[39;49m\u001b[43mget_loc\u001b[49m\u001b[43m(\u001b[49m\u001b[43mkey\u001b[49m\u001b[43m)\u001b[49m\n\u001b[0;32m   3506\u001b[0m \u001b[38;5;28;01mif\u001b[39;00m is_integer(indexer):\n\u001b[0;32m   3507\u001b[0m     indexer \u001b[38;5;241m=\u001b[39m [indexer]\n",
      "File \u001b[1;32m~\\anaconda3\\lib\\site-packages\\pandas\\core\\indexes\\base.py:3623\u001b[0m, in \u001b[0;36mIndex.get_loc\u001b[1;34m(self, key, method, tolerance)\u001b[0m\n\u001b[0;32m   3621\u001b[0m     \u001b[38;5;28;01mreturn\u001b[39;00m \u001b[38;5;28mself\u001b[39m\u001b[38;5;241m.\u001b[39m_engine\u001b[38;5;241m.\u001b[39mget_loc(casted_key)\n\u001b[0;32m   3622\u001b[0m \u001b[38;5;28;01mexcept\u001b[39;00m \u001b[38;5;167;01mKeyError\u001b[39;00m \u001b[38;5;28;01mas\u001b[39;00m err:\n\u001b[1;32m-> 3623\u001b[0m     \u001b[38;5;28;01mraise\u001b[39;00m \u001b[38;5;167;01mKeyError\u001b[39;00m(key) \u001b[38;5;28;01mfrom\u001b[39;00m \u001b[38;5;21;01merr\u001b[39;00m\n\u001b[0;32m   3624\u001b[0m \u001b[38;5;28;01mexcept\u001b[39;00m \u001b[38;5;167;01mTypeError\u001b[39;00m:\n\u001b[0;32m   3625\u001b[0m     \u001b[38;5;66;03m# If we have a listlike key, _check_indexing_error will raise\u001b[39;00m\n\u001b[0;32m   3626\u001b[0m     \u001b[38;5;66;03m#  InvalidIndexError. Otherwise we fall through and re-raise\u001b[39;00m\n\u001b[0;32m   3627\u001b[0m     \u001b[38;5;66;03m#  the TypeError.\u001b[39;00m\n\u001b[0;32m   3628\u001b[0m     \u001b[38;5;28mself\u001b[39m\u001b[38;5;241m.\u001b[39m_check_indexing_error(key)\n",
      "\u001b[1;31mKeyError\u001b[0m: 'DISCHARGE_DATE'"
     ]
    },
    {
     "data": {
      "text/plain": [
       "<Figure size 720x432 with 0 Axes>"
      ]
     },
     "metadata": {},
     "output_type": "display_data"
    }
   ],
   "source": [
    "import matplotlib.pyplot as plt\n",
    "\n",
    "# Load discharge data for a specific facility\n",
    "facility_name = \"Facility X\"\n",
    "facility_data = data[data['FACILITY_NAME'] == facility_name]\n",
    "\n",
    "# Plot discharge trends\n",
    "plt.figure(figsize=(10, 6))\n",
    "plt.plot(facility_data['DISCHARGE_DATE'], facility_data['DISCHARGE_VOLUME'], marker='o')\n",
    "\n",
    "# Customize the plot\n",
    "plt.title(f\"Discharge Trends for {facility_name}\")\n",
    "plt.xlabel(\"Date\")\n",
    "plt.ylabel(\"Discharge Volume\")\n",
    "plt.grid(True)\n",
    "plt.tight_layout()\n",
    "\n",
    "# Save or show the plot\n",
    "plt.savefig(\"discharge_trends.png\")\n",
    "print(\"Discharge trend plot saved as discharge_trends.png.\")\n",
    "\n",
    "print(plt.savefig)\n"
   ]
  },
  {
   "cell_type": "code",
   "execution_count": 14,
   "id": "6e78d060",
   "metadata": {},
   "outputs": [
    {
     "name": "stdout",
     "output_type": "stream",
     "text": [
      "<bound method NDFrame.to_csv of       PERMIT_TYPE  APP_ID           WDID          STATUS NOI_PROCESSED_DATE  \\\n",
      "1116   Industrial  181814    2 07I002637      Terminated         1992-04-01   \n",
      "2937   Industrial  188525    4 19I000008      Terminated         1992-01-26   \n",
      "2938   Industrial  188526    4 19I000010      Terminated         1992-01-26   \n",
      "2939   Industrial  188526  4 19Nec012103          Active         1992-01-26   \n",
      "2940   Industrial  188527    4 19I000023      Terminated         1992-02-07   \n",
      "...           ...     ...            ...             ...                ...   \n",
      "53314  Industrial  578745  4 19Nec013951          Active         2024-11-04   \n",
      "53317  Industrial  578761  4 19Nec013947          Active         2024-11-04   \n",
      "53321  Industrial  578834  4 19Nna003068  Nona Submitted         2024-11-06   \n",
      "53323  Industrial  578850  4 19Nec013948          Active         2024-11-04   \n",
      "53327  Industrial  578913  4 19Nec013961          Active         2024-11-07   \n",
      "\n",
      "      REGION_BOARD       COUNTY                OPERATOR_NAME  \\\n",
      "1116             4  Los Angeles         Myers Container Corp   \n",
      "2937             4  Los Angeles       Los Angeles Daily News   \n",
      "2938             4  Los Angeles       Kenwalt Die Casting Co   \n",
      "2939             4  Los Angeles       Kenwalt Die Casting Co   \n",
      "2940             4  Los Angeles     Us Postal Service La Vmf   \n",
      "...            ...          ...                          ...   \n",
      "53314            4  Los Angeles              Cozy Parker Llc   \n",
      "53317            4  Los Angeles       Meiji Tofu Corporation   \n",
      "53321            4  Los Angeles          Viewpoint Ambulance   \n",
      "53323            4  Los Angeles  Parter Medical Products Inc   \n",
      "53327            4  Los Angeles       La Mousse Desserts Inc   \n",
      "\n",
      "                        FACILITY_NAME     FACILITY_ADDRESS  ... FACILITY_ZIP  \\\n",
      "1116             Myers Container Corp     900 Brookside Dr  ...      94801.0   \n",
      "2937   La Newspaper Grp Press Telegra         604 Pine Ave  ...      90844.0   \n",
      "2938           Kenwalt Die Casting Co     8719 Bradley Ave  ...      91352.0   \n",
      "2939           Kenwalt Die Casting Co     8719 Bradley Ave  ...      91352.0   \n",
      "2940     Usps Los Angeles Central Vmf   7001 S Central Ave  ...      90052.0   \n",
      "...                               ...                  ...  ...          ...   \n",
      "53314                 Cozy Parker Llc      1237 W 134Th St  ...        90247   \n",
      "53317          Meiji Tofu Corporation  16440 S Western Ave  ...        90247   \n",
      "53321             Viewpoint Ambulance      10740 Forest St  ...        90670   \n",
      "53323     Parter Medical Products Inc  17015 Kingsview Ave  ...        90746   \n",
      "53327          La Mousse Desserts Inc     18211 S Broadway  ...        90248   \n",
      "\n",
      "      FACILITY_LATITUDE FACILITY_LONGITUDE  FACILITY_COUNTY  \\\n",
      "1116           37.96465         -122.35713      Los Angeles   \n",
      "2937           34.06586         -118.21922      Los Angeles   \n",
      "2938           34.22783         -118.37396      Los Angeles   \n",
      "2939           34.22783         -118.37396      Los Angeles   \n",
      "2940           33.98000         -118.26050      Los Angeles   \n",
      "...                 ...                ...              ...   \n",
      "53314          33.91131         -118.29788      Los Angeles   \n",
      "53317          33.88118         -118.30896      Los Angeles   \n",
      "53321          33.93652         -118.06583      Los Angeles   \n",
      "53323          33.87782         -118.26271      Los Angeles   \n",
      "53327          33.86498         -118.27877      Los Angeles   \n",
      "\n",
      "       FACILITY_CONTACT_FIRST_NAME FACILITY_CONTACT_LAST_NAME FACILITY_PHONE  \\\n",
      "1116                          Dana                   W Zanone        Unknown   \n",
      "2937                        Dennis                      Healy     3104991234   \n",
      "2938                         Steve                       Lago   818-768-5800   \n",
      "2939                         Steve                       Lago   818-768-5800   \n",
      "2940                           Vmf                    Manager   323-586-1900   \n",
      "...                            ...                        ...            ...   \n",
      "53314                        James                  Henderson   323-679-5620   \n",
      "53317                         Koki                       Sato   626-297-1020   \n",
      "53321                       Shahin                    Melamed   818-645-5442   \n",
      "53323                       Hormoz                   Foroughi   310-327-4417   \n",
      "53327                        Tiney                   Espinoza   310-478-6051   \n",
      "\n",
      "      FACILITY_TOTAL_SIZE FACILITY_TOTAL_SIZE_UNIT  \\\n",
      "1116               122.00                  Unknown   \n",
      "2937                 2.00                    Acres   \n",
      "2938             30000.00                     Sqft   \n",
      "2939             30000.00                     Sqft   \n",
      "2940            215000.00                     Sqft   \n",
      "...                   ...                      ...   \n",
      "53314                1.16                    Acres   \n",
      "53317             4000.00                     Sqft   \n",
      "53321                0.90                    Acres   \n",
      "53323            50000.00                     Sqft   \n",
      "53327                0.48                    Acres   \n",
      "\n",
      "                                             PRIMARY_SIC  \n",
      "1116   3412-Metal Shipping Barrels, Drums, Kegs, And ...  \n",
      "2937   2711-Newspapers:  Publishing, Or Publishing An...  \n",
      "2938                          3363-Aluminum Die-Castings  \n",
      "2939                          3363-Aluminum Die-Castings  \n",
      "2940                   4311-United States Postal Service  \n",
      "...                                                  ...  \n",
      "53314                   3792-Travel Trailers And Campers  \n",
      "53317                        2099-Food Preparations, Nec  \n",
      "53321                         47-Transportation Services  \n",
      "53323                        3089-Plastics Products, Nec  \n",
      "53327                 2024-Ice Cream And Frozen Desserts  \n",
      "\n",
      "[14323 rows x 22 columns]>\n"
     ]
    }
   ],
   "source": [
    "# Filter data for a specific county\n",
    "county_data = data[data['COUNTY'] == 'Los Angeles']\n",
    "\n",
    "# Export filtered data\n",
    "county_data.to_csv('los_angeles_facilities.csv', index=False)\n",
    "\n",
    "print(county_data.to_csv)\n"
   ]
  },
  {
   "cell_type": "code",
   "execution_count": null,
   "id": "ca8b3fe2",
   "metadata": {},
   "outputs": [],
   "source": []
  }
 ],
 "metadata": {
  "kernelspec": {
   "display_name": "Python 3 (ipykernel)",
   "language": "python",
   "name": "python3"
  },
  "language_info": {
   "codemirror_mode": {
    "name": "ipython",
    "version": 3
   },
   "file_extension": ".py",
   "mimetype": "text/x-python",
   "name": "python",
   "nbconvert_exporter": "python",
   "pygments_lexer": "ipython3",
   "version": "3.9.12"
  }
 },
 "nbformat": 4,
 "nbformat_minor": 5
}
