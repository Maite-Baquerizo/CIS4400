{
 "cells": [
  {
   "cell_type": "code",
   "execution_count": 6,
   "id": "a3e8da77",
   "metadata": {},
   "outputs": [],
   "source": [
    "import pandas as pd\n",
    "dataset = pd.read_csv(\"cleaned_industrial_data.csv\")"
   ]
  },
  {
   "cell_type": "code",
   "execution_count": 7,
   "id": "e5b9bc74",
   "metadata": {},
   "outputs": [],
   "source": [
    "dataset['ZIP_CODE'] = dataset['FACILITY_ZIP'].apply(lambda x: str(x).zfill(5))\n"
   ]
  },
  {
   "cell_type": "code",
   "execution_count": 8,
   "id": "087c3c66",
   "metadata": {},
   "outputs": [
    {
     "data": {
      "text/plain": [
       "53330"
      ]
     },
     "execution_count": 8,
     "metadata": {},
     "output_type": "execute_result"
    }
   ],
   "source": [
    "from sqlalchemy import create_engine\n",
    "engine = create_engine('sqlite:///environmental_compliance.db')\n",
    "dataset.to_sql('FACILITY', con=engine, if_exists='replace', index=False)\n"
   ]
  }
 ],
 "metadata": {
  "kernelspec": {
   "display_name": "Python 3 (ipykernel)",
   "language": "python",
   "name": "python3"
  },
  "language_info": {
   "codemirror_mode": {
    "name": "ipython",
    "version": 3
   },
   "file_extension": ".py",
   "mimetype": "text/x-python",
   "name": "python",
   "nbconvert_exporter": "python",
   "pygments_lexer": "ipython3",
   "version": "3.9.12"
  }
 },
 "nbformat": 4,
 "nbformat_minor": 5
}
